{
 "cells": [
  {
   "cell_type": "code",
   "execution_count": 1,
   "metadata": {},
   "outputs": [],
   "source": [
    "import pandas as pd\n",
    "from sklearn.model_selection import train_test_split\n",
    "from sklearn.preprocessing import StandardScaler, LabelEncoder\n",
    "import tensorflow as tf\n",
    "from tensorflow.keras.models import Sequential\n",
    "from tensorflow.keras.layers import Dense, Dropout\n",
    "from tensorflow.keras.callbacks import EarlyStopping\n",
    "\n",
    "# Load your dataset\n",
    "df = pd.read_csv('Darknet.csv')"
   ]
  },
  {
   "cell_type": "code",
   "execution_count": 2,
   "metadata": {},
   "outputs": [],
   "source": [
    "# Encode the labels to binary format\n",
    "le = LabelEncoder()\n",
    "df['Label'] = le.fit_transform(df['Label'].replace(['Non-Tor', 'NonVPN'], 'Normal').replace(['Tor', 'VPN'], 'Malicious'))"
   ]
  },
  {
   "cell_type": "code",
   "execution_count": 3,
   "metadata": {},
   "outputs": [],
   "source": [
    "import numpy as np\n",
    "# Select relevant features\n",
    "numeric_features = df.select_dtypes(include=['float64', 'int64']).columns\n",
    "X = df[numeric_features].drop(['Src Port', 'Dst Port', 'Protocol'], axis=1)\n",
    "X.replace([np.inf, -np.inf], np.nan, inplace=True)\n",
    "X.fillna(X.mean(), inplace=True)"
   ]
  },
  {
   "cell_type": "code",
   "execution_count": 4,
   "metadata": {},
   "outputs": [],
   "source": [
    "# Normalize the features\n",
    "scaler = StandardScaler()\n",
    "X_scaled = scaler.fit_transform(X)\n",
    "\n",
    "# Split the dataset\n",
    "X_train, X_test, y_train, y_test = train_test_split(X_scaled, df['Label'], test_size=0.3, random_state=42, stratify=df['Label'])"
   ]
  },
  {
   "cell_type": "code",
   "execution_count": 5,
   "metadata": {},
   "outputs": [],
   "source": [
    "# Define the model\n",
    "model = Sequential([\n",
    "    Dense(64, activation='relu', input_shape=(X_train.shape[1],)),\n",
    "    Dropout(0.5),\n",
    "    Dense(32, activation='relu'),\n",
    "    Dropout(0.5),\n",
    "    Dense(1, activation='sigmoid')\n",
    "])"
   ]
  },
  {
   "cell_type": "code",
   "execution_count": 6,
   "metadata": {},
   "outputs": [
    {
     "name": "stdout",
     "output_type": "stream",
     "text": [
      "Epoch 1/100\n"
     ]
    },
    {
     "name": "stderr",
     "output_type": "stream",
     "text": [
      "2023-12-15 07:37:45.652049: W tensorflow/tsl/platform/profile_utils/cpu_utils.cc:128] Failed to get CPU frequency: 0 Hz\n"
     ]
    },
    {
     "name": "stdout",
     "output_type": "stream",
     "text": [
      "2477/2477 [==============================] - 2s 839us/step - loss: 0.0451 - accuracy: 0.9874 - val_loss: 4.1870e-04 - val_accuracy: 0.9999\n",
      "Epoch 2/100\n",
      "2477/2477 [==============================] - 2s 798us/step - loss: 0.0041 - accuracy: 0.9994 - val_loss: 2.8478e-04 - val_accuracy: 0.9999\n",
      "Epoch 3/100\n",
      "2477/2477 [==============================] - 2s 821us/step - loss: 0.0017 - accuracy: 0.9997 - val_loss: 6.7905e-04 - val_accuracy: 0.9999\n",
      "Epoch 4/100\n",
      "2477/2477 [==============================] - 2s 775us/step - loss: 8.1396e-04 - accuracy: 0.9999 - val_loss: 0.0011 - val_accuracy: 0.9999\n",
      "Epoch 5/100\n",
      "2477/2477 [==============================] - 2s 770us/step - loss: 0.0030 - accuracy: 0.9997 - val_loss: 0.0012 - val_accuracy: 0.9999\n",
      "Epoch 6/100\n",
      "2477/2477 [==============================] - 2s 824us/step - loss: 0.0037 - accuracy: 0.9998 - val_loss: 8.8708e-04 - val_accuracy: 0.9999\n",
      "Epoch 7/100\n",
      "2477/2477 [==============================] - 2s 758us/step - loss: 0.0014 - accuracy: 0.9999 - val_loss: 0.0011 - val_accuracy: 0.9999\n",
      "Epoch 8/100\n",
      "2477/2477 [==============================] - 2s 949us/step - loss: 7.0078e-04 - accuracy: 0.9999 - val_loss: 8.6709e-04 - val_accuracy: 0.9999\n",
      "Epoch 9/100\n",
      "2477/2477 [==============================] - 2s 766us/step - loss: 0.0011 - accuracy: 0.9999 - val_loss: 4.0874e-04 - val_accuracy: 0.9999\n",
      "Epoch 10/100\n",
      "2477/2477 [==============================] - 2s 754us/step - loss: 9.6332e-04 - accuracy: 0.9999 - val_loss: 4.2413e-04 - val_accuracy: 0.9999\n",
      "Epoch 11/100\n",
      "2477/2477 [==============================] - 2s 754us/step - loss: 6.0704e-04 - accuracy: 0.9999 - val_loss: 6.7891e-04 - val_accuracy: 0.9999\n",
      "Epoch 12/100\n",
      "2477/2477 [==============================] - 2s 758us/step - loss: 0.0023 - accuracy: 0.9998 - val_loss: 2.2374e-09 - val_accuracy: 1.0000\n",
      "Epoch 13/100\n",
      "2477/2477 [==============================] - 2s 805us/step - loss: 2.7838e-04 - accuracy: 1.0000 - val_loss: 8.2422e-07 - val_accuracy: 1.0000\n",
      "Epoch 14/100\n",
      "2477/2477 [==============================] - 2s 756us/step - loss: 0.0020 - accuracy: 0.9999 - val_loss: 1.3445e-07 - val_accuracy: 1.0000\n",
      "Epoch 15/100\n",
      "2477/2477 [==============================] - 2s 754us/step - loss: 0.0028 - accuracy: 0.9999 - val_loss: 1.8411e-07 - val_accuracy: 1.0000\n",
      "Epoch 16/100\n",
      "2477/2477 [==============================] - 2s 778us/step - loss: 0.0017 - accuracy: 0.9999 - val_loss: 4.6791e-08 - val_accuracy: 1.0000\n",
      "Epoch 17/100\n",
      "2477/2477 [==============================] - 2s 809us/step - loss: 8.7844e-05 - accuracy: 1.0000 - val_loss: 7.2524e-09 - val_accuracy: 1.0000\n",
      "Epoch 18/100\n",
      "2477/2477 [==============================] - 2s 779us/step - loss: 6.1475e-04 - accuracy: 0.9999 - val_loss: 2.5069e-13 - val_accuracy: 1.0000\n",
      "Epoch 19/100\n",
      "2477/2477 [==============================] - 2s 776us/step - loss: 0.0011 - accuracy: 1.0000 - val_loss: 1.7850e-08 - val_accuracy: 1.0000\n",
      "Epoch 20/100\n",
      "2477/2477 [==============================] - 2s 785us/step - loss: 1.4522e-05 - accuracy: 1.0000 - val_loss: 4.7018e-15 - val_accuracy: 1.0000\n",
      "Epoch 21/100\n",
      "2477/2477 [==============================] - 2s 783us/step - loss: 9.2074e-04 - accuracy: 0.9999 - val_loss: 7.7455e-09 - val_accuracy: 1.0000\n",
      "Epoch 22/100\n",
      "2477/2477 [==============================] - 2s 771us/step - loss: 3.3401e-04 - accuracy: 1.0000 - val_loss: 2.7288e-11 - val_accuracy: 1.0000\n",
      "Epoch 23/100\n",
      "2477/2477 [==============================] - 2s 783us/step - loss: 0.0020 - accuracy: 0.9999 - val_loss: 5.7478e-08 - val_accuracy: 1.0000\n",
      "Epoch 24/100\n",
      "2477/2477 [==============================] - 2s 776us/step - loss: 0.0013 - accuracy: 0.9999 - val_loss: 1.2467e-11 - val_accuracy: 1.0000\n",
      "Epoch 25/100\n",
      "2477/2477 [==============================] - 2s 774us/step - loss: 7.8197e-04 - accuracy: 0.9999 - val_loss: 3.1201e-12 - val_accuracy: 1.0000\n",
      "Epoch 26/100\n",
      "2477/2477 [==============================] - 2s 774us/step - loss: 0.0014 - accuracy: 0.9999 - val_loss: 5.7041e-12 - val_accuracy: 1.0000\n",
      "Epoch 27/100\n",
      "2477/2477 [==============================] - 2s 781us/step - loss: 0.0013 - accuracy: 0.9999 - val_loss: 1.4753e-12 - val_accuracy: 1.0000\n",
      "Epoch 28/100\n",
      "2477/2477 [==============================] - 2s 775us/step - loss: 0.0021 - accuracy: 1.0000 - val_loss: 1.5466e-11 - val_accuracy: 1.0000\n",
      "Epoch 29/100\n",
      "2477/2477 [==============================] - 2s 765us/step - loss: 3.9984e-05 - accuracy: 1.0000 - val_loss: 5.5888e-14 - val_accuracy: 1.0000\n",
      "Epoch 30/100\n",
      "2477/2477 [==============================] - 2s 788us/step - loss: 6.0174e-04 - accuracy: 0.9999 - val_loss: 4.8901e-08 - val_accuracy: 1.0000\n"
     ]
    },
    {
     "data": {
      "text/plain": [
       "<keras.callbacks.History at 0x29cbb5dc0>"
      ]
     },
     "execution_count": 6,
     "metadata": {},
     "output_type": "execute_result"
    }
   ],
   "source": [
    "# Compile the model\n",
    "model.compile(optimizer='adam', loss='binary_crossentropy', metrics=['accuracy'])\n",
    "\n",
    "# Early stopping to prevent overfitting\n",
    "early_stopping = EarlyStopping(monitor='val_loss', patience=10)\n",
    "\n",
    "# Train the model\n",
    "model.fit(X_train, y_train, epochs=100, batch_size=32, validation_split=0.2, callbacks=[early_stopping])\n",
    "\n"
   ]
  },
  {
   "cell_type": "code",
   "execution_count": 7,
   "metadata": {},
   "outputs": [
    {
     "name": "stdout",
     "output_type": "stream",
     "text": [
      "   1/1327 [..............................] - ETA: 20s - loss: 5.5597e-21 - accuracy: 1.0000"
     ]
    },
    {
     "name": "stdout",
     "output_type": "stream",
     "text": [
      "1327/1327 [==============================] - 1s 413us/step - loss: 4.3119e-04 - accuracy: 1.0000\n",
      "Test accuracy: 0.9999764561653137\n"
     ]
    }
   ],
   "source": [
    "# Evaluate the model\n",
    "loss, accuracy = model.evaluate(X_test, y_test)\n",
    "print(f'Test accuracy: {accuracy}')"
   ]
  },
  {
   "cell_type": "code",
   "execution_count": 8,
   "metadata": {},
   "outputs": [
    {
     "name": "stdout",
     "output_type": "stream",
     "text": [
      "1/1 [==============================] - 0s 16ms/step - loss: 2.3209e-21 - accuracy: 1.0000\n",
      "Holdout accuracy: 1.0\n"
     ]
    }
   ],
   "source": [
    "#test with holdout data\n",
    "df = pd.read_csv('holdout_set_mixed.csv')\n",
    "df['Label'] = le.transform(df['Label'].replace(['Non-Tor', 'NonVPN'], 'Normal').replace(['Tor', 'VPN'], 'Malicious'))\n",
    "X = df[numeric_features].drop(['Src Port', 'Dst Port', 'Protocol'], axis=1)\n",
    "X.replace([np.inf, -np.inf], np.nan, inplace=True)\n",
    "X.fillna(X.mean(), inplace=True)\n",
    "X_scaled = scaler.transform(X)\n",
    "y = df['Label']\n",
    "loss, accuracy = model.evaluate(X_scaled, y)\n",
    "print(f'Holdout accuracy: {accuracy}')"
   ]
  },
  {
   "cell_type": "code",
   "execution_count": 9,
   "metadata": {},
   "outputs": [],
   "source": [
    "# Optionally save the model\n",
    "model.save('darknet_model.h5')"
   ]
  }
 ],
 "metadata": {
  "kernelspec": {
   "display_name": "tf",
   "language": "python",
   "name": "python3"
  },
  "language_info": {
   "codemirror_mode": {
    "name": "ipython",
    "version": 3
   },
   "file_extension": ".py",
   "mimetype": "text/x-python",
   "name": "python",
   "nbconvert_exporter": "python",
   "pygments_lexer": "ipython3",
   "version": "3.9.18"
  }
 },
 "nbformat": 4,
 "nbformat_minor": 2
}
